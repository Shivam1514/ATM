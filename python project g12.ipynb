{
 "cells": [
  {
   "cell_type": "code",
   "execution_count": null,
   "id": "44c7f688",
   "metadata": {},
   "outputs": [
    {
     "name": "stdout",
     "output_type": "stream",
     "text": [
      "\n",
      "Welcome to the ATM\n",
      "Please enter your four digit pin: 3456\n",
      "Enter the OTP that you recive on your regestered Mobile no.xxxxxx0301\n",
      "166638\n",
      "what do you want to do\n",
      " Enter 1 to Widthdraw Cash \n",
      " Enter 2 for Balance Enquiry \n",
      " Enter 3 to Quit\n",
      "Enter the number corresponding to the activity you want to do: 2\n",
      "Total balance 50000 Rupees\n",
      "\n",
      "what do you want to do\n",
      " Enter 1 to Widthdraw Cash \n",
      " Enter 2 for Balance Enquiry \n",
      " Enter 3 to Quit\n"
     ]
    }
   ],
   "source": [
    "user = {\n",
    "    'pin': 3456,\n",
    "    'balance':50000\n",
    "}\n",
    "\n",
    "def widthdraw_cash():\n",
    "    while True:\n",
    "        amount = int(input(\"Enter the amount of money you want to widthdraw: \"))\n",
    "        if amount > user['balance']:\n",
    "            print(\"You don't have sufficient balance to make this widthdrawal\")\n",
    "        else:\n",
    "            user['balance'] = user['balance'] - amount\n",
    "            print(f\"{amount} Rupees successfully widthdrawn your remaining balance is {user['balance']} Rupees\")\n",
    "            print('')\n",
    "            return False\n",
    "\n",
    "def balance_enquiry():\n",
    "    print(f\"Total balance {user['balance']} Rupees\")\n",
    "    print('')\n",
    "\n",
    "\n",
    "is_quit = False\n",
    "\n",
    "print('')\n",
    "print(\"Welcome to the ATM\")\n",
    "\n",
    "pin = int(input('Please enter your four digit pin: '))\n",
    "\n",
    "if pin == user['pin']:\n",
    "    while is_quit == False:\n",
    "        print(\"Enter the OTP that you recive on your regestered Mobile no.xxxxxx0301\")\n",
    "        otp=int(input())\n",
    "        while is_quit==False:\n",
    "            print(\"what do you want to do\")\n",
    "            print(\" Enter 1 to Widthdraw Cash \\n Enter 2 for Balance Enquiry \\n Enter 3 to Quit\")\n",
    "            query = int(input(\"Enter the number corresponding to the activity you want to do: \"))\n",
    "            if query == 1:\n",
    "                widthdraw_cash()\n",
    "            elif query == 2:\n",
    "                balance_enquiry()\n",
    "            elif query == 3:\n",
    "                is_quit = True\n",
    "            else:\n",
    "                print(\"Please enter a correct value shown\")\n",
    "else:\n",
    "    print(\"You Entered Wrong Pin\")"
   ]
  }
 ],
 "metadata": {
  "kernelspec": {
   "display_name": "Python 3 (ipykernel)",
   "language": "python",
   "name": "python3"
  },
  "language_info": {
   "codemirror_mode": {
    "name": "ipython",
    "version": 3
   },
   "file_extension": ".py",
   "mimetype": "text/x-python",
   "name": "python",
   "nbconvert_exporter": "python",
   "pygments_lexer": "ipython3",
   "version": "3.9.12"
  },
  "vscode": {
   "interpreter": {
    "hash": "d9937c635b0cad3efaaace6853220e2c52a8f518037d05b1f74d78d50ab2ba51"
   }
  }
 },
 "nbformat": 4,
 "nbformat_minor": 5
}
